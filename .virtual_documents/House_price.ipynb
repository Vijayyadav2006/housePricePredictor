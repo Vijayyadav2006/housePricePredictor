import pandas as pd
import numpy as np



data=pd.read_csv("Bengaluru_House_Data.csv")


data.drop(columns=['area_type','availability','society'],inplace=True)



data


data.dropna(inplace=True)


data.location.value_counts()



data['location'] = data['location'].apply(lambda x:x.strip())


data.location.value_counts()



location_stats = data.groupby('location')['location'].agg('count').sort_values(ascending=False)


location_stats


location_stats_less_than_10 = location_stats[location_stats <=10]


location_stats_less_than_10


data['location'] =data['location'].apply(lambda x:'other' if x in location_stats_less_than_10 else x)


data['location'].value_counts()


data


data['size'].unique()


data['bedrooms'] = data['size'].apply(lambda x:int(x.split(' ')[0]))


data



data.total_sqft.unique()


def clean(sqft):
    tokens =sqft.split('-')
    if len(tokens) == 2:
        return (float(tokens[0]) + float(tokens[1]))/2
    else:
        try:
            return float(sqft)
        except:
            return None


data['total_sqft'] = data['total_sqft'].apply(clean)


data['total_sqft'].unique()


data.dropna(inplace=True)


data


data.describe()


data['sqrt_per_bedroom'] = data['total_sqft']/data['bedrooms']


data.sqrt_per_bedroom.describe()


data2= data[data['sqrt_per_bedroom'] >= 300]


data2



data2['sqrt_per_price']=round(data2['price']*100000/data2['total_sqft'],2)


data2.sqrt_per_price.describe()


data3 = data2[data2['sqrt_per_price'] >= 2000]


data3.drop(columns=['size','sqrt_per_bedroom','sqrt_per_price'],axis=1,inplace=True)


data3


from sklearn.preprocessing import OneHotEncoder,StandardScaler


from sklearn.model_selection import train_test_split


from sklearn.linear_model import LinearRegression


from sklearn.pipeline import make_pipeline



from sklearn.compose import make_column_transformer


col_trans = make_column_transformer ((OneHotEncoder(sparse_output=False),['location']),remainder='passthrough')


lr = LinearRegression()


scaler = StandardScaler()


model = make_pipeline(col_trans,scaler,lr)


data_input = data3.drop(columns = ['price'])
data_output = data3['price'] 


x_train,x_test,y_train,y_test = train_test_split(data_input,data_output,test_size=0.2)


model.fit(x_train, y_train)


model.score(x_test,y_test)


input = pd.DataFrame([['Electronic City Phase II',2000.0,3.0,2.0,3]],columns = ['location','total_sqft','bath','balcony','bedrooms'])


model.predict(input)


import pickle as pk


pk.dump(model,open('House_prediction_model.pkl','wb'))


 data3.to_csv('Cleaned_data.csv')



